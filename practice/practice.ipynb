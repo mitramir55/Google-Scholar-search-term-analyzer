{
 "cells": [
  {
   "cell_type": "code",
   "execution_count": 1,
   "metadata": {},
   "outputs": [],
   "source": [
    "from bs4 import BeautifulSoup\n",
    "import requests, lxml, os, re\n",
    "import pandas as pd\n",
    "import numpy as np\n"
   ]
  },
  {
   "cell_type": "code",
   "execution_count": 2,
   "metadata": {},
   "outputs": [],
   "source": [
    "\n",
    "\n",
    "headers = {\n",
    "            'User-agent':\n",
    "            \"Mozilla/5.0 (Windows NT 10.0; Win64; x64) AppleWebKit/537.36 (KHTML, like Gecko) Chrome/103.0.0.0 Safari/537.36\"\n",
    "            }\n",
    "\n",
    "phrase= 'nlp'\n",
    "\n",
    "params = {\"q\": phrase, \"hl\": \"en\"}\n",
    "html = requests.get('https://scholar.google.com/scholar', headers=headers, params=params).text\n",
    "soup = BeautifulSoup(html, 'lxml')\n"
   ]
  },
  {
   "cell_type": "code",
   "execution_count": 4,
   "metadata": {},
   "outputs": [
    {
     "data": {
      "text/plain": [
       "<!DOCTYPE html PUBLIC \"-//W3C//DTD HTML 4.01 Transitional//EN\">\n",
       "<html>\n",
       "<head><meta content=\"text/html; charset=utf-8\" http-equiv=\"content-type\"/><meta content=\"initial-scale=1\" name=\"viewport\"/><title>https://scholar.google.com/scholar?q=nlp&amp;hl=en</title></head>\n",
       "<body onload=\"e=document.getElementById('captcha');if(e){e.focus();} if(solveSimpleChallenge) {solveSimpleChallenge(,);}\" style=\"font-family: arial, sans-serif; background-color: #fff; color: #000; padding:20px; font-size:18px;\">\n",
       "<div style=\"max-width:400px;\">\n",
       "<hr noshade=\"\" size=\"1\" style=\"color:#ccc; background-color:#ccc;\"/><br/>\n",
       "<form action=\"index\" id=\"captcha-form\" method=\"post\">\n",
       "<noscript>\n",
       "<div style=\"font-size:13px;\">\n",
       "  In order to continue, please enable javascript on your web browser.\n",
       "</div>\n",
       "</noscript>\n",
       "<script async=\"\" defer=\"\" src=\"https://www.google.com/recaptcha/api.js\"></script>\n",
       "<script>var submitCallback = function(response) {document.getElementById('captcha-form').submit();};</script>\n",
       "<div class=\"g-recaptcha\" data-callback=\"submitCallback\" data-s=\"UWJ8In-IKUZ9LaWOpgJ_84m0P_cHcTC6dShXfZCDbpXzjkHy6Skg7M0jUX8IwwuEw8wNCQMVujZ_Q0EH2I1u22CR89lg7Z3aW7coxogLIIeSNsSu_siezWlaG1K6aGDXSAGPFg6gHFywfMp8gJR0yaAQXPNS6tWjymsCuzEzB6qMKacUdyNvFptT8yqxYbpWNoA53VUrVvj4jwzGL8GlWNh0erSwzcORhf7Q580\" data-sitekey=\"6LfwuyUTAAAAAOAmoS0fdqijC2PbbdH4kjq62Y1b\" id=\"recaptcha\"></div>\n",
       "<input name=\"q\" type=\"hidden\" value=\"EgSIn9W9GJn4kZcGIhD02OZrTvWTq7sucXJ0BsI0MgFy\"/><input name=\"continue\" type=\"hidden\" value=\"https://scholar.google.com/scholar?q=nlp&amp;hl=en\"/>\n",
       "</form>\n",
       "<hr noshade=\"\" size=\"1\" style=\"color:#ccc; background-color:#ccc;\"/>\n",
       "<div style=\"font-size:13px;\">\n",
       "<b>About this page</b><br/><br/>\n",
       "\n",
       "Our systems have detected unusual traffic from your computer network.  This page checks to see if it's really you sending the requests, and not a robot.  <a href=\"#\" onclick=\"document.getElementById('infoDiv').style.display='block';\">Why did this happen?</a><br/><br/>\n",
       "<div id=\"infoDiv\" style=\"display:none; background-color:#eee; padding:10px; margin:0 0 15px 0; line-height:1.4em;\">\n",
       "This page appears when Google automatically detects requests coming from your computer network which appear to be in violation of the <a href=\"//www.google.com/policies/terms/\">Terms of Service</a>. The block will expire shortly after those requests stop.  In the meantime, solving the above CAPTCHA will let you continue to use our services.<br/><br/>This traffic may have been sent by malicious software, a browser plug-in, or a script that sends automated requests.  If you share your network connection, ask your administrator for help — a different computer using the same IP address may be responsible.  <a href=\"//support.google.com/websearch/answer/86640\">Learn more</a><br/><br/>Sometimes you may be asked to solve the CAPTCHA if you are using advanced terms that robots are known to use, or sending requests very quickly.\n",
       "</div>\n",
       "\n",
       "IP address: 136.159.213.189<br/>Time: 2022-07-30T00:32:25Z<br/>URL: https://scholar.google.com/scholar?q=nlp&amp;hl=en<br/>\n",
       "</div>\n",
       "</div>\n",
       "</body>\n",
       "</html>"
      ]
     },
     "execution_count": 4,
     "metadata": {},
     "output_type": "execute_result"
    }
   ],
   "source": [
    "soup"
   ]
  },
  {
   "cell_type": "markdown",
   "metadata": {},
   "source": [
    "define the terms: \n",
    "each term will have its size in the circle\n",
    "each combination of terms will have a connection between the nodes and the thickness will show the conjunction "
   ]
  },
  {
   "cell_type": "code",
   "execution_count": null,
   "metadata": {},
   "outputs": [],
   "source": [
    "def scrape(phrases:list) -> dict:\n",
    "\n",
    "    dict_ = {}\n",
    "\n",
    "    \n",
    "\n",
    "    return dict_"
   ]
  },
  {
   "cell_type": "code",
   "execution_count": 2,
   "metadata": {},
   "outputs": [],
   "source": [
    "def extract_number(results_list:list) -> str:\n",
    "\n",
    "    result_num = 0\n",
    "    \n",
    "    for term in results_list:\n",
    "        if re.findall('about', term.lower()):\n",
    "            result_num = re.findall('about (.*) results', term.lower())[0]\n",
    "            result_num = re.sub(',', '', result_num)\n",
    "            result_num = int(result_num)\n",
    "\n",
    "    return result_num\n",
    "\n"
   ]
  },
  {
   "cell_type": "code",
   "execution_count": 3,
   "metadata": {},
   "outputs": [],
   "source": [
    "def scrape_number_of_results(phrase:str)->int:\n",
    "\n",
    "    \n",
    "    params = {\"q\": phrase, \"hl\": \"en\"}\n",
    "    html = requests.get('https://scholar.google.com/scholar', headers=headers, params=params).text\n",
    "    soup = BeautifulSoup(html, 'lxml')\n",
    "\n",
    "        \n",
    "    # the dictionary will be collected here\n",
    "    results_list = []\n",
    "\n",
    "    # Container where all needed dict_ is located\n",
    "    for result in soup.select('.gs_ab_mdw'):\n",
    "        results_list.append(result.text)\n",
    "\n",
    "    result_num = extract_number(results_list)\n",
    "    \n",
    "    return result_num"
   ]
  },
  {
   "cell_type": "code",
   "execution_count": 4,
   "metadata": {},
   "outputs": [],
   "source": [
    "\n",
    "params = {\"q\": 'nlp and healthcare', \"hl\": \"en\"}\n",
    "html = requests.get('https://scholar.google.com/scholar', headers=headers, params=params).text\n",
    "soup = BeautifulSoup(html, 'lxml')\n",
    "\n",
    "    \n",
    "# the dictionary will be collected here\n",
    "results_list = []\n",
    "\n",
    "# Container where all needed dict_ is located\n",
    "for result in soup.select('.gs_ab_mdw'):\n",
    "    print(result.text)\n",
    "    results_list.append(result.text)\n"
   ]
  },
  {
   "cell_type": "code",
   "execution_count": 5,
   "metadata": {},
   "outputs": [],
   "source": [
    "def combine_phrases(phrases:list)->list:\n",
    "    \"\"\"\n",
    "    gets all phrases and creates a list of their combination \n",
    "    a list of str(phrase 1 + \" AND \" + phrase 2)\n",
    "    \"\"\"\n",
    "    list_of_phrase_comb = []\n",
    "    # combination of terms\n",
    "    for i in range(len(phrases)):\n",
    "        for j in range(len(phrases)):\n",
    "            if i>j:\n",
    "                new_phrase = phrases[i] + \" AND \" + phrases[j]\n",
    "                list_of_phrase_comb.append(new_phrase)\n",
    "\n",
    "    return list_of_phrase_comb"
   ]
  },
  {
   "cell_type": "code",
   "execution_count": 6,
   "metadata": {},
   "outputs": [],
   "source": [
    "def determine_node_size(phrases:list) -> dict:\n",
    "    \"\"\"\n",
    "    get the list of phrases\n",
    "    output a dictionary of their size (number of search results for each phrase)\n",
    "    \"\"\"\n",
    "    sizes_dict = {}\n",
    "    # single term search for size of node\n",
    "    for phrase in phrases:\n",
    "        sizes_dict[phrase] = scrape_number_of_results(phrase)\n",
    "        \n",
    "    return sizes_dict"
   ]
  },
  {
   "cell_type": "code",
   "execution_count": 7,
   "metadata": {},
   "outputs": [],
   "source": [
    "def create_graph(phrases):\n",
    "    \n",
    "    graph_ = {'nodes':[], 'links':[]}\n",
    "    \n",
    "    sizes_dict =  determine_node_size(phrases)\n",
    "\n",
    "    \n",
    "    # for nodes\n",
    "    # {'nodes' : [{'id': , 'group':2 , 'size':name_freq[char]}]}\n",
    "    for term, numb_ in sizes_dict.items():\n",
    "        graph_['nodes'].append({'id': term, 'group': 1, \"size\":float(np.log(numb_)) })\n",
    "    \n",
    "    list_of_phrase_comb = []\n",
    "    # combination of terms\n",
    "    for i in range(len(phrases)):\n",
    "        for j in range(len(phrases)):\n",
    "            if i>j:\n",
    "                new_phrase = \"\\\"\" + phrases[i] + \"\\\"\" + \" AND \" + \"\\\"\" + phrases[j] + \"\\\"\"\n",
    "                print(new_phrase)\n",
    "                results_num = scrape_number_of_results(phrase=new_phrase)\n",
    "\n",
    "                graph_['links'].append({'source': phrases[i], \n",
    "                                        'target': phrases[j],\n",
    "                                        'value': float(results_num), \n",
    "                                        'color': float(results_num)})\n",
    "    \n",
    "    \n",
    "    return graph_"
   ]
  },
  {
   "cell_type": "code",
   "execution_count": 8,
   "metadata": {},
   "outputs": [
    {
     "name": "stderr",
     "output_type": "stream",
     "text": [
      "C:\\Users\\mitra\\AppData\\Local\\Temp\\ipykernel_20564\\2097357067.py:11: RuntimeWarning: divide by zero encountered in log\n",
      "  graph_['nodes'].append({'id': term, 'group': 1, \"size\":float(np.log(numb_)) })\n"
     ]
    },
    {
     "name": "stdout",
     "output_type": "stream",
     "text": [
      "\"decision support systems\" AND \"natural language processing\"\n",
      "\"clinical setting\" AND \"natural language processing\"\n",
      "\"clinical setting\" AND \"decision support systems\"\n",
      "\"artificial intelligence\" AND \"natural language processing\"\n",
      "\"artificial intelligence\" AND \"decision support systems\"\n",
      "\"artificial intelligence\" AND \"clinical setting\"\n",
      "\"healthcare\" AND \"natural language processing\"\n",
      "\"healthcare\" AND \"decision support systems\"\n",
      "\"healthcare\" AND \"clinical setting\"\n",
      "\"healthcare\" AND \"artificial intelligence\"\n"
     ]
    }
   ],
   "source": [
    "graph_ = create_graph(phrases=['natural language processing', 'decision support systems', 'clinical setting', 'artificial intelligence' , 'healthcare'])"
   ]
  },
  {
   "cell_type": "code",
   "execution_count": 9,
   "metadata": {},
   "outputs": [
    {
     "name": "stdout",
     "output_type": "stream",
     "text": [
      "{'nodes': [{'id': 'natural language processing', 'group': 1, 'size': -inf}, {'id': 'decision support systems', 'group': 1, 'size': -inf}, {'id': 'clinical setting', 'group': 1, 'size': -inf}, {'id': 'artificial intelligence', 'group': 1, 'size': -inf}, {'id': 'healthcare', 'group': 1, 'size': -inf}], 'links': [{'source': 'decision support systems', 'target': 'natural language processing', 'value': 0.0, 'color': 0.0}, {'source': 'clinical setting', 'target': 'natural language processing', 'value': 0.0, 'color': 0.0}, {'source': 'clinical setting', 'target': 'decision support systems', 'value': 0.0, 'color': 0.0}, {'source': 'artificial intelligence', 'target': 'natural language processing', 'value': 0.0, 'color': 0.0}, {'source': 'artificial intelligence', 'target': 'decision support systems', 'value': 0.0, 'color': 0.0}, {'source': 'artificial intelligence', 'target': 'clinical setting', 'value': 0.0, 'color': 0.0}, {'source': 'healthcare', 'target': 'natural language processing', 'value': 0.0, 'color': 0.0}, {'source': 'healthcare', 'target': 'decision support systems', 'value': 0.0, 'color': 0.0}, {'source': 'healthcare', 'target': 'clinical setting', 'value': 0.0, 'color': 0.0}, {'source': 'healthcare', 'target': 'artificial intelligence', 'value': 0.0, 'color': 0.0}]}\n"
     ]
    }
   ],
   "source": [
    "print(graph_)"
   ]
  },
  {
   "cell_type": "code",
   "execution_count": null,
   "metadata": {},
   "outputs": [],
   "source": [
    "i=0"
   ]
  },
  {
   "cell_type": "code",
   "execution_count": 56,
   "metadata": {},
   "outputs": [],
   "source": [
    "\n",
    "import json\n",
    "with open(f\"C:\\\\Users\\\\mitra\\\\PassivePy\\\\PassivePyCode\\\\SENG Scrape\\\\graph_{i}.json\", 'w') as fp:\n",
    "    json.dump(graph_, fp)\n",
    "    i+=1"
   ]
  },
  {
   "cell_type": "markdown",
   "metadata": {},
   "source": [
    "add something that can plot terms versus time"
   ]
  },
  {
   "cell_type": "code",
   "execution_count": null,
   "metadata": {},
   "outputs": [],
   "source": []
  },
  {
   "cell_type": "code",
   "execution_count": null,
   "metadata": {},
   "outputs": [],
   "source": [
    "    def matrix_to_edge(self, cooccurrence_matrix:np.matrix, cooccurrence_matrix_with_senti:np.matrix,\n",
    "     pop_names_df:pd.DataFrame, top_n_popular_names:list)->Graph:\n",
    "\n",
    "        graph_ = {'nodes':[], 'links':[]}\n",
    "        shape = cooccurrence_matrix.shape[0]\n",
    "        name_freq = pop_names_df.sum()\n",
    "\n",
    "\n",
    "        # for nodes\n",
    "        # {'nodes' : [{'id': , 'group':2 , 'size':name_freq[char]}]}\n",
    "        for char in top_n_popular_names:\n",
    "            graph_['nodes'].append({'id': char, 'group': 1, \"size\":np.float(np.log(name_freq)[char])*5 })\n",
    "\n",
    "\n",
    "        # for edges\n",
    "        # {'links' : [{'source': , 'target': , 'value': , 'color': }]}\n",
    "        for i in range(shape):\n",
    "            for j in range(shape):\n",
    "                if i>j:\n",
    "                    graph_['links'].append({'source': top_n_popular_names[i], \n",
    "                                            'target': top_n_popular_names[j],\n",
    "                                        'value': np.float(cooccurrence_matrix[i, j]), \n",
    "                                        'color':cooccurrence_matrix_with_senti[i,j]})\n",
    "                    \n",
    "        return graph_\n"
   ]
  },
  {
   "cell_type": "code",
   "execution_count": null,
   "metadata": {},
   "outputs": [],
   "source": []
  },
  {
   "cell_type": "code",
   "execution_count": 38,
   "metadata": {},
   "outputs": [
    {
     "name": "stdout",
     "output_type": "stream",
     "text": [
      "39200\n"
     ]
    }
   ],
   "source": [
    "for term in results_list:\n",
    "    if re.findall('about', term.lower()):\n",
    "        result_num = re.findall('about (.*) results', term.lower())[0]\n",
    "        result_num = re.sub(',', '', result_num)\n",
    "        result_num = int(result_num)\n",
    "        print(result_num)"
   ]
  },
  {
   "cell_type": "code",
   "execution_count": 26,
   "metadata": {},
   "outputs": [
    {
     "data": {
      "text/plain": [
       "[]"
      ]
     },
     "execution_count": 26,
     "metadata": {},
     "output_type": "execute_result"
    }
   ],
   "source": [
    "result_num"
   ]
  },
  {
   "cell_type": "code",
   "execution_count": 30,
   "metadata": {},
   "outputs": [
    {
     "data": {
      "text/plain": [
       "['about']"
      ]
     },
     "execution_count": 30,
     "metadata": {},
     "output_type": "execute_result"
    }
   ],
   "source": [
    "re.findall(\"about\", \"About 39,200 results (0.03 sec)\".lower())"
   ]
  },
  {
   "cell_type": "code",
   "execution_count": null,
   "metadata": {},
   "outputs": [],
   "source": []
  }
 ],
 "metadata": {
  "kernelspec": {
   "display_name": "Python 3.9.12 ('base')",
   "language": "python",
   "name": "python3"
  },
  "language_info": {
   "codemirror_mode": {
    "name": "ipython",
    "version": 3
   },
   "file_extension": ".py",
   "mimetype": "text/x-python",
   "name": "python",
   "nbconvert_exporter": "python",
   "pygments_lexer": "ipython3",
   "version": "3.9.12"
  },
  "orig_nbformat": 4,
  "vscode": {
   "interpreter": {
    "hash": "adfccd5c958d70cd78f22c942a5f90dd259f52bf203482d766a0ca6ec5e2e798"
   }
  }
 },
 "nbformat": 4,
 "nbformat_minor": 2
}
